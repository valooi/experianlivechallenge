{
 "cells": [
  {
   "cell_type": "markdown",
   "id": "67aa1427",
   "metadata": {},
   "source": [
    "## Setting up\n",
    "- Import Relevant Libraries\n",
    "- Reading csv files"
   ]
  },
  {
   "cell_type": "code",
   "execution_count": 1,
   "id": "c13bdec6",
   "metadata": {},
   "outputs": [],
   "source": [
    "import pandas as pd"
   ]
  },
  {
   "cell_type": "code",
   "execution_count": 3,
   "id": "112fb5bb",
   "metadata": {},
   "outputs": [],
   "source": [
    "acc_data = pd.read_csv(\"Step Up - Experian Account Data.csv\")\n",
    "acc_holder = pd.read_csv(\"Step Up - Experian Acount Holder Data.csv\")\n",
    "mule_flag = pd.read_csv(\"Mule Flag.csv\")"
   ]
  },
  {
   "cell_type": "markdown",
   "id": "1e165546",
   "metadata": {},
   "source": [
    "Display dataset"
   ]
  },
  {
   "cell_type": "code",
   "execution_count": 5,
   "id": "539c8f6f",
   "metadata": {},
   "outputs": [
    {
     "data": {
      "text/html": [
       "<div>\n",
       "<style scoped>\n",
       "    .dataframe tbody tr th:only-of-type {\n",
       "        vertical-align: middle;\n",
       "    }\n",
       "\n",
       "    .dataframe tbody tr th {\n",
       "        vertical-align: top;\n",
       "    }\n",
       "\n",
       "    .dataframe thead th {\n",
       "        text-align: right;\n",
       "    }\n",
       "</style>\n",
       "<table border=\"1\" class=\"dataframe\">\n",
       "  <thead>\n",
       "    <tr style=\"text-align: right;\">\n",
       "      <th></th>\n",
       "      <th>Identifier</th>\n",
       "      <th>AccountLength</th>\n",
       "      <th>AverageBalance</th>\n",
       "      <th>NumTransactions</th>\n",
       "      <th>NumDeposits</th>\n",
       "      <th>NumWithdrawals</th>\n",
       "      <th>NumTransfers</th>\n",
       "      <th>NumLoans</th>\n",
       "      <th>NumCreditCards</th>\n",
       "      <th>NumSavingsAccounts</th>\n",
       "    </tr>\n",
       "  </thead>\n",
       "  <tbody>\n",
       "    <tr>\n",
       "      <th>0</th>\n",
       "      <td>ID_0001</td>\n",
       "      <td>19.0</td>\n",
       "      <td>NaN</td>\n",
       "      <td>305.0</td>\n",
       "      <td>230.0</td>\n",
       "      <td>288.0</td>\n",
       "      <td>39.0</td>\n",
       "      <td>7.0</td>\n",
       "      <td>2.0</td>\n",
       "      <td>0.0</td>\n",
       "    </tr>\n",
       "    <tr>\n",
       "      <th>1</th>\n",
       "      <td>ID_0002</td>\n",
       "      <td>3.0</td>\n",
       "      <td>24989.0</td>\n",
       "      <td>331.0</td>\n",
       "      <td>203.0</td>\n",
       "      <td>147.0</td>\n",
       "      <td>5.0</td>\n",
       "      <td>NaN</td>\n",
       "      <td>4.0</td>\n",
       "      <td>2.0</td>\n",
       "    </tr>\n",
       "    <tr>\n",
       "      <th>2</th>\n",
       "      <td>ID_0003</td>\n",
       "      <td>NaN</td>\n",
       "      <td>10915.0</td>\n",
       "      <td>109.0</td>\n",
       "      <td>43.0</td>\n",
       "      <td>227.0</td>\n",
       "      <td>37.0</td>\n",
       "      <td>4.0</td>\n",
       "      <td>1.0</td>\n",
       "      <td>1.0</td>\n",
       "    </tr>\n",
       "    <tr>\n",
       "      <th>3</th>\n",
       "      <td>ID_0004</td>\n",
       "      <td>19.0</td>\n",
       "      <td>43552.0</td>\n",
       "      <td>87.0</td>\n",
       "      <td>149.0</td>\n",
       "      <td>236.0</td>\n",
       "      <td>168.0</td>\n",
       "      <td>1.0</td>\n",
       "      <td>2.0</td>\n",
       "      <td>1.0</td>\n",
       "    </tr>\n",
       "    <tr>\n",
       "      <th>4</th>\n",
       "      <td>ID_0005</td>\n",
       "      <td>9.0</td>\n",
       "      <td>19990.0</td>\n",
       "      <td>NaN</td>\n",
       "      <td>49.0</td>\n",
       "      <td>37.0</td>\n",
       "      <td>99.0</td>\n",
       "      <td>9.0</td>\n",
       "      <td>3.0</td>\n",
       "      <td>2.0</td>\n",
       "    </tr>\n",
       "  </tbody>\n",
       "</table>\n",
       "</div>"
      ],
      "text/plain": [
       "  Identifier  AccountLength  AverageBalance  NumTransactions  NumDeposits  \\\n",
       "0    ID_0001           19.0             NaN            305.0        230.0   \n",
       "1    ID_0002            3.0         24989.0            331.0        203.0   \n",
       "2    ID_0003            NaN         10915.0            109.0         43.0   \n",
       "3    ID_0004           19.0         43552.0             87.0        149.0   \n",
       "4    ID_0005            9.0         19990.0              NaN         49.0   \n",
       "\n",
       "   NumWithdrawals  NumTransfers  NumLoans  NumCreditCards  NumSavingsAccounts  \n",
       "0           288.0          39.0       7.0             2.0                 0.0  \n",
       "1           147.0           5.0       NaN             4.0                 2.0  \n",
       "2           227.0          37.0       4.0             1.0                 1.0  \n",
       "3           236.0         168.0       1.0             2.0                 1.0  \n",
       "4            37.0          99.0       9.0             3.0                 2.0  "
      ]
     },
     "execution_count": 5,
     "metadata": {},
     "output_type": "execute_result"
    }
   ],
   "source": [
    "acc_data.head()"
   ]
  },
  {
   "cell_type": "code",
   "execution_count": 6,
   "id": "dbee211a",
   "metadata": {},
   "outputs": [
    {
     "data": {
      "text/html": [
       "<div>\n",
       "<style scoped>\n",
       "    .dataframe tbody tr th:only-of-type {\n",
       "        vertical-align: middle;\n",
       "    }\n",
       "\n",
       "    .dataframe tbody tr th {\n",
       "        vertical-align: top;\n",
       "    }\n",
       "\n",
       "    .dataframe thead th {\n",
       "        text-align: right;\n",
       "    }\n",
       "</style>\n",
       "<table border=\"1\" class=\"dataframe\">\n",
       "  <thead>\n",
       "    <tr style=\"text-align: right;\">\n",
       "      <th></th>\n",
       "      <th>Identifier</th>\n",
       "      <th>DateOfBirth</th>\n",
       "      <th>Gender</th>\n",
       "      <th>Income</th>\n",
       "      <th>CreditScore</th>\n",
       "      <th>LoanAmount</th>\n",
       "      <th>EmploymentStatus</th>\n",
       "      <th>MaritalStatus</th>\n",
       "      <th>OccupancyStatus</th>\n",
       "      <th>NumDependents</th>\n",
       "      <th>SocialMediaUsageHours</th>\n",
       "      <th>ShoppingFrequencyPerMonth</th>\n",
       "      <th>HealthInsuranceStatus</th>\n",
       "    </tr>\n",
       "  </thead>\n",
       "  <tbody>\n",
       "    <tr>\n",
       "      <th>0</th>\n",
       "      <td>ID_0001</td>\n",
       "      <td>06/01/1964</td>\n",
       "      <td>Female</td>\n",
       "      <td>96534.0</td>\n",
       "      <td>NaN</td>\n",
       "      <td>44116.0</td>\n",
       "      <td>Unemployed</td>\n",
       "      <td>Single</td>\n",
       "      <td>Owner</td>\n",
       "      <td>3.0</td>\n",
       "      <td>21.0</td>\n",
       "      <td>9.0</td>\n",
       "      <td>Yes</td>\n",
       "    </tr>\n",
       "    <tr>\n",
       "      <th>1</th>\n",
       "      <td>ID_0002</td>\n",
       "      <td>26/11/2004</td>\n",
       "      <td>Male</td>\n",
       "      <td>75106.0</td>\n",
       "      <td>390.0</td>\n",
       "      <td>9782.0</td>\n",
       "      <td>Unemployed</td>\n",
       "      <td>NaN</td>\n",
       "      <td>Owner</td>\n",
       "      <td>2.0</td>\n",
       "      <td>9.0</td>\n",
       "      <td>10.0</td>\n",
       "      <td>No</td>\n",
       "    </tr>\n",
       "    <tr>\n",
       "      <th>2</th>\n",
       "      <td>ID_0003</td>\n",
       "      <td>02/07/1992</td>\n",
       "      <td>Male</td>\n",
       "      <td>50678.0</td>\n",
       "      <td>779.0</td>\n",
       "      <td>38650.0</td>\n",
       "      <td>Student</td>\n",
       "      <td>Divorced</td>\n",
       "      <td>Owner</td>\n",
       "      <td>3.0</td>\n",
       "      <td>16.0</td>\n",
       "      <td>5.0</td>\n",
       "      <td>Yes</td>\n",
       "    </tr>\n",
       "    <tr>\n",
       "      <th>3</th>\n",
       "      <td>ID_0004</td>\n",
       "      <td>03/07/1974</td>\n",
       "      <td>Male</td>\n",
       "      <td>96218.0</td>\n",
       "      <td>757.0</td>\n",
       "      <td>22366.0</td>\n",
       "      <td>Student</td>\n",
       "      <td>Single</td>\n",
       "      <td>Owner</td>\n",
       "      <td>1.0</td>\n",
       "      <td>21.0</td>\n",
       "      <td>0.0</td>\n",
       "      <td>No</td>\n",
       "    </tr>\n",
       "    <tr>\n",
       "      <th>4</th>\n",
       "      <td>ID_0005</td>\n",
       "      <td>13/05/1976</td>\n",
       "      <td>Male</td>\n",
       "      <td>83230.0</td>\n",
       "      <td>750.0</td>\n",
       "      <td>28557.0</td>\n",
       "      <td>Employed</td>\n",
       "      <td>Single</td>\n",
       "      <td>Owner</td>\n",
       "      <td>1.0</td>\n",
       "      <td>11.0</td>\n",
       "      <td>5.0</td>\n",
       "      <td>No</td>\n",
       "    </tr>\n",
       "  </tbody>\n",
       "</table>\n",
       "</div>"
      ],
      "text/plain": [
       "  Identifier DateOfBirth  Gender   Income  CreditScore  LoanAmount  \\\n",
       "0    ID_0001  06/01/1964  Female  96534.0          NaN     44116.0   \n",
       "1    ID_0002  26/11/2004    Male  75106.0        390.0      9782.0   \n",
       "2    ID_0003  02/07/1992    Male  50678.0        779.0     38650.0   \n",
       "3    ID_0004  03/07/1974    Male  96218.0        757.0     22366.0   \n",
       "4    ID_0005  13/05/1976    Male  83230.0        750.0     28557.0   \n",
       "\n",
       "  EmploymentStatus MaritalStatus OccupancyStatus  NumDependents  \\\n",
       "0       Unemployed        Single           Owner            3.0   \n",
       "1       Unemployed           NaN           Owner            2.0   \n",
       "2          Student      Divorced           Owner            3.0   \n",
       "3          Student        Single           Owner            1.0   \n",
       "4         Employed        Single           Owner            1.0   \n",
       "\n",
       "   SocialMediaUsageHours  ShoppingFrequencyPerMonth HealthInsuranceStatus  \n",
       "0                   21.0                        9.0                   Yes  \n",
       "1                    9.0                       10.0                    No  \n",
       "2                   16.0                        5.0                   Yes  \n",
       "3                   21.0                        0.0                    No  \n",
       "4                   11.0                        5.0                    No  "
      ]
     },
     "execution_count": 6,
     "metadata": {},
     "output_type": "execute_result"
    }
   ],
   "source": [
    "acc_holder.head()"
   ]
  },
  {
   "cell_type": "code",
   "execution_count": 11,
   "id": "a533ee0d",
   "metadata": {},
   "outputs": [
    {
     "data": {
      "text/html": [
       "<div>\n",
       "<style scoped>\n",
       "    .dataframe tbody tr th:only-of-type {\n",
       "        vertical-align: middle;\n",
       "    }\n",
       "\n",
       "    .dataframe tbody tr th {\n",
       "        vertical-align: top;\n",
       "    }\n",
       "\n",
       "    .dataframe thead th {\n",
       "        text-align: right;\n",
       "    }\n",
       "</style>\n",
       "<table border=\"1\" class=\"dataframe\">\n",
       "  <thead>\n",
       "    <tr style=\"text-align: right;\">\n",
       "      <th></th>\n",
       "      <th>Identifier</th>\n",
       "      <th>MuleAccount</th>\n",
       "    </tr>\n",
       "  </thead>\n",
       "  <tbody>\n",
       "    <tr>\n",
       "      <th>0</th>\n",
       "      <td>ID_0001</td>\n",
       "      <td>0.0</td>\n",
       "    </tr>\n",
       "    <tr>\n",
       "      <th>1</th>\n",
       "      <td>ID_0002</td>\n",
       "      <td>0.0</td>\n",
       "    </tr>\n",
       "    <tr>\n",
       "      <th>2</th>\n",
       "      <td>ID_0003</td>\n",
       "      <td>NaN</td>\n",
       "    </tr>\n",
       "    <tr>\n",
       "      <th>3</th>\n",
       "      <td>ID_0004</td>\n",
       "      <td>NaN</td>\n",
       "    </tr>\n",
       "    <tr>\n",
       "      <th>4</th>\n",
       "      <td>ID_0005</td>\n",
       "      <td>0.0</td>\n",
       "    </tr>\n",
       "  </tbody>\n",
       "</table>\n",
       "</div>"
      ],
      "text/plain": [
       "  Identifier  MuleAccount\n",
       "0    ID_0001          0.0\n",
       "1    ID_0002          0.0\n",
       "2    ID_0003          NaN\n",
       "3    ID_0004          NaN\n",
       "4    ID_0005          0.0"
      ]
     },
     "execution_count": 11,
     "metadata": {},
     "output_type": "execute_result"
    }
   ],
   "source": [
    "mule_flag.head()"
   ]
  },
  {
   "cell_type": "markdown",
   "id": "d7cf59ef",
   "metadata": {},
   "source": [
    "## Data Audit"
   ]
  },
  {
   "cell_type": "markdown",
   "id": "1d271914",
   "metadata": {},
   "source": [
    "Account Data"
   ]
  },
  {
   "cell_type": "code",
   "execution_count": 8,
   "id": "9ab2688d",
   "metadata": {},
   "outputs": [
    {
     "name": "stdout",
     "output_type": "stream",
     "text": [
      "<class 'pandas.core.frame.DataFrame'>\n",
      "RangeIndex: 1000 entries, 0 to 999\n",
      "Data columns (total 10 columns):\n",
      " #   Column              Non-Null Count  Dtype  \n",
      "---  ------              --------------  -----  \n",
      " 0   Identifier          1000 non-null   object \n",
      " 1   AccountLength       948 non-null    float64\n",
      " 2   AverageBalance      948 non-null    float64\n",
      " 3   NumTransactions     948 non-null    float64\n",
      " 4   NumDeposits         948 non-null    float64\n",
      " 5   NumWithdrawals      948 non-null    float64\n",
      " 6   NumTransfers        948 non-null    float64\n",
      " 7   NumLoans            948 non-null    float64\n",
      " 8   NumCreditCards      949 non-null    float64\n",
      " 9   NumSavingsAccounts  948 non-null    float64\n",
      "dtypes: float64(9), object(1)\n",
      "memory usage: 78.3+ KB\n"
     ]
    }
   ],
   "source": [
    "acc_data.info()"
   ]
  },
  {
   "cell_type": "code",
   "execution_count": 9,
   "id": "320abae6",
   "metadata": {},
   "outputs": [
    {
     "data": {
      "text/plain": [
       "Identifier             0\n",
       "AccountLength         52\n",
       "AverageBalance        52\n",
       "NumTransactions       52\n",
       "NumDeposits           52\n",
       "NumWithdrawals        52\n",
       "NumTransfers          52\n",
       "NumLoans              52\n",
       "NumCreditCards        51\n",
       "NumSavingsAccounts    52\n",
       "dtype: int64"
      ]
     },
     "execution_count": 9,
     "metadata": {},
     "output_type": "execute_result"
    }
   ],
   "source": [
    "acc_data.isnull().sum()"
   ]
  },
  {
   "cell_type": "markdown",
   "id": "a0452977",
   "metadata": {},
   "source": [
    "Account Holder"
   ]
  },
  {
   "cell_type": "code",
   "execution_count": 14,
   "id": "d918d904",
   "metadata": {},
   "outputs": [
    {
     "name": "stdout",
     "output_type": "stream",
     "text": [
      "<class 'pandas.core.frame.DataFrame'>\n",
      "RangeIndex: 1045 entries, 0 to 1044\n",
      "Data columns (total 13 columns):\n",
      " #   Column                     Non-Null Count  Dtype  \n",
      "---  ------                     --------------  -----  \n",
      " 0   Identifier                 1045 non-null   object \n",
      " 1   DateOfBirth                991 non-null    object \n",
      " 2   Gender                     992 non-null    object \n",
      " 3   Income                     989 non-null    float64\n",
      " 4   CreditScore                987 non-null    float64\n",
      " 5   LoanAmount                 990 non-null    float64\n",
      " 6   EmploymentStatus           987 non-null    object \n",
      " 7   MaritalStatus              989 non-null    object \n",
      " 8   OccupancyStatus            990 non-null    object \n",
      " 9   NumDependents              990 non-null    float64\n",
      " 10  SocialMediaUsageHours      985 non-null    float64\n",
      " 11  ShoppingFrequencyPerMonth  990 non-null    float64\n",
      " 12  HealthInsuranceStatus      989 non-null    object \n",
      "dtypes: float64(6), object(7)\n",
      "memory usage: 106.3+ KB\n"
     ]
    }
   ],
   "source": [
    "acc_holder.info()"
   ]
  },
  {
   "cell_type": "markdown",
   "id": "6fac2c8e",
   "metadata": {},
   "source": [
    "Mule Flag"
   ]
  },
  {
   "cell_type": "code",
   "execution_count": 12,
   "id": "da9d1cf5",
   "metadata": {},
   "outputs": [
    {
     "name": "stdout",
     "output_type": "stream",
     "text": [
      "<class 'pandas.core.frame.DataFrame'>\n",
      "RangeIndex: 1000 entries, 0 to 999\n",
      "Data columns (total 2 columns):\n",
      " #   Column       Non-Null Count  Dtype  \n",
      "---  ------       --------------  -----  \n",
      " 0   Identifier   1000 non-null   object \n",
      " 1   MuleAccount  948 non-null    float64\n",
      "dtypes: float64(1), object(1)\n",
      "memory usage: 15.8+ KB\n"
     ]
    }
   ],
   "source": [
    "mule_flag.info()"
   ]
  },
  {
   "cell_type": "code",
   "execution_count": 13,
   "id": "54a3347b",
   "metadata": {},
   "outputs": [
    {
     "data": {
      "text/plain": [
       "array([ 0., nan,  1.])"
      ]
     },
     "execution_count": 13,
     "metadata": {},
     "output_type": "execute_result"
    }
   ],
   "source": [
    "mule_flag['MuleAccount'].unique()"
   ]
  },
  {
   "cell_type": "code",
   "execution_count": null,
   "id": "ce75b734",
   "metadata": {},
   "outputs": [],
   "source": []
  }
 ],
 "metadata": {
  "kernelspec": {
   "display_name": "Python 3",
   "language": "python",
   "name": "python3"
  },
  "language_info": {
   "codemirror_mode": {
    "name": "ipython",
    "version": 3
   },
   "file_extension": ".py",
   "mimetype": "text/x-python",
   "name": "python",
   "nbconvert_exporter": "python",
   "pygments_lexer": "ipython3",
   "version": "3.12.3"
  }
 },
 "nbformat": 4,
 "nbformat_minor": 5
}
