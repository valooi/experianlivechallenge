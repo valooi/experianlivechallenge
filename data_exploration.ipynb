{
 "cells": [
  {
   "cell_type": "markdown",
   "id": "67aa1427",
   "metadata": {},
   "source": [
    "## Setting up\n",
    "- Import Relevant Libraries\n",
    "- Reading csv files"
   ]
  },
  {
   "cell_type": "code",
   "execution_count": 1,
   "id": "c13bdec6",
   "metadata": {},
   "outputs": [],
   "source": [
    "import pandas as pd\n",
    "import seaborn as  sns\n",
    "import matplotlib.pyplot as plt\n",
    "from sklearn.impute import KNNImputer"
   ]
  },
  {
   "cell_type": "code",
   "execution_count": 2,
   "id": "112fb5bb",
   "metadata": {},
   "outputs": [],
   "source": [
    "acc_data = pd.read_csv(\"Step Up - Experian Account Data.csv\")\n",
    "acc_holder = pd.read_csv(\"Step Up - Experian Acount Holder Data.csv\")\n",
    "mule_flag = pd.read_csv(\"Mule Flag.csv\")"
   ]
  },
  {
   "cell_type": "markdown",
   "id": "1e165546",
   "metadata": {},
   "source": [
    "Display dataset"
   ]
  },
  {
   "cell_type": "code",
   "execution_count": 3,
   "id": "539c8f6f",
   "metadata": {},
   "outputs": [
    {
     "data": {
      "text/html": [
       "<div>\n",
       "<style scoped>\n",
       "    .dataframe tbody tr th:only-of-type {\n",
       "        vertical-align: middle;\n",
       "    }\n",
       "\n",
       "    .dataframe tbody tr th {\n",
       "        vertical-align: top;\n",
       "    }\n",
       "\n",
       "    .dataframe thead th {\n",
       "        text-align: right;\n",
       "    }\n",
       "</style>\n",
       "<table border=\"1\" class=\"dataframe\">\n",
       "  <thead>\n",
       "    <tr style=\"text-align: right;\">\n",
       "      <th></th>\n",
       "      <th>Identifier</th>\n",
       "      <th>AccountLength</th>\n",
       "      <th>AverageBalance</th>\n",
       "      <th>NumTransactions</th>\n",
       "      <th>NumDeposits</th>\n",
       "      <th>NumWithdrawals</th>\n",
       "      <th>NumTransfers</th>\n",
       "      <th>NumLoans</th>\n",
       "      <th>NumCreditCards</th>\n",
       "      <th>NumSavingsAccounts</th>\n",
       "    </tr>\n",
       "  </thead>\n",
       "  <tbody>\n",
       "    <tr>\n",
       "      <th>0</th>\n",
       "      <td>ID_0001</td>\n",
       "      <td>19.0</td>\n",
       "      <td>NaN</td>\n",
       "      <td>305.0</td>\n",
       "      <td>230.0</td>\n",
       "      <td>288.0</td>\n",
       "      <td>39.0</td>\n",
       "      <td>7.0</td>\n",
       "      <td>2.0</td>\n",
       "      <td>0.0</td>\n",
       "    </tr>\n",
       "    <tr>\n",
       "      <th>1</th>\n",
       "      <td>ID_0002</td>\n",
       "      <td>3.0</td>\n",
       "      <td>24989.0</td>\n",
       "      <td>331.0</td>\n",
       "      <td>203.0</td>\n",
       "      <td>147.0</td>\n",
       "      <td>5.0</td>\n",
       "      <td>NaN</td>\n",
       "      <td>4.0</td>\n",
       "      <td>2.0</td>\n",
       "    </tr>\n",
       "    <tr>\n",
       "      <th>2</th>\n",
       "      <td>ID_0003</td>\n",
       "      <td>NaN</td>\n",
       "      <td>10915.0</td>\n",
       "      <td>109.0</td>\n",
       "      <td>43.0</td>\n",
       "      <td>227.0</td>\n",
       "      <td>37.0</td>\n",
       "      <td>4.0</td>\n",
       "      <td>1.0</td>\n",
       "      <td>1.0</td>\n",
       "    </tr>\n",
       "    <tr>\n",
       "      <th>3</th>\n",
       "      <td>ID_0004</td>\n",
       "      <td>19.0</td>\n",
       "      <td>43552.0</td>\n",
       "      <td>87.0</td>\n",
       "      <td>149.0</td>\n",
       "      <td>236.0</td>\n",
       "      <td>168.0</td>\n",
       "      <td>1.0</td>\n",
       "      <td>2.0</td>\n",
       "      <td>1.0</td>\n",
       "    </tr>\n",
       "    <tr>\n",
       "      <th>4</th>\n",
       "      <td>ID_0005</td>\n",
       "      <td>9.0</td>\n",
       "      <td>19990.0</td>\n",
       "      <td>NaN</td>\n",
       "      <td>49.0</td>\n",
       "      <td>37.0</td>\n",
       "      <td>99.0</td>\n",
       "      <td>9.0</td>\n",
       "      <td>3.0</td>\n",
       "      <td>2.0</td>\n",
       "    </tr>\n",
       "  </tbody>\n",
       "</table>\n",
       "</div>"
      ],
      "text/plain": [
       "  Identifier  AccountLength  AverageBalance  NumTransactions  NumDeposits  \\\n",
       "0    ID_0001           19.0             NaN            305.0        230.0   \n",
       "1    ID_0002            3.0         24989.0            331.0        203.0   \n",
       "2    ID_0003            NaN         10915.0            109.0         43.0   \n",
       "3    ID_0004           19.0         43552.0             87.0        149.0   \n",
       "4    ID_0005            9.0         19990.0              NaN         49.0   \n",
       "\n",
       "   NumWithdrawals  NumTransfers  NumLoans  NumCreditCards  NumSavingsAccounts  \n",
       "0           288.0          39.0       7.0             2.0                 0.0  \n",
       "1           147.0           5.0       NaN             4.0                 2.0  \n",
       "2           227.0          37.0       4.0             1.0                 1.0  \n",
       "3           236.0         168.0       1.0             2.0                 1.0  \n",
       "4            37.0          99.0       9.0             3.0                 2.0  "
      ]
     },
     "execution_count": 3,
     "metadata": {},
     "output_type": "execute_result"
    }
   ],
   "source": [
    "acc_data.head()"
   ]
  },
  {
   "cell_type": "code",
   "execution_count": 4,
   "id": "f5f20b48",
   "metadata": {},
   "outputs": [
    {
     "data": {
      "text/plain": [
       "(1000, 611)"
      ]
     },
     "execution_count": 4,
     "metadata": {},
     "output_type": "execute_result"
    }
   ],
   "source": [
    "len(acc_data), len(acc_data.dropna())"
   ]
  },
  {
   "cell_type": "code",
   "execution_count": 5,
   "id": "dbee211a",
   "metadata": {},
   "outputs": [
    {
     "data": {
      "text/html": [
       "<div>\n",
       "<style scoped>\n",
       "    .dataframe tbody tr th:only-of-type {\n",
       "        vertical-align: middle;\n",
       "    }\n",
       "\n",
       "    .dataframe tbody tr th {\n",
       "        vertical-align: top;\n",
       "    }\n",
       "\n",
       "    .dataframe thead th {\n",
       "        text-align: right;\n",
       "    }\n",
       "</style>\n",
       "<table border=\"1\" class=\"dataframe\">\n",
       "  <thead>\n",
       "    <tr style=\"text-align: right;\">\n",
       "      <th></th>\n",
       "      <th>Identifier</th>\n",
       "      <th>DateOfBirth</th>\n",
       "      <th>Gender</th>\n",
       "      <th>Income</th>\n",
       "      <th>CreditScore</th>\n",
       "      <th>LoanAmount</th>\n",
       "      <th>EmploymentStatus</th>\n",
       "      <th>MaritalStatus</th>\n",
       "      <th>OccupancyStatus</th>\n",
       "      <th>NumDependents</th>\n",
       "      <th>SocialMediaUsageHours</th>\n",
       "      <th>ShoppingFrequencyPerMonth</th>\n",
       "      <th>HealthInsuranceStatus</th>\n",
       "    </tr>\n",
       "  </thead>\n",
       "  <tbody>\n",
       "    <tr>\n",
       "      <th>0</th>\n",
       "      <td>ID_0001</td>\n",
       "      <td>06/01/1964</td>\n",
       "      <td>Female</td>\n",
       "      <td>96534.0</td>\n",
       "      <td>NaN</td>\n",
       "      <td>44116.0</td>\n",
       "      <td>Unemployed</td>\n",
       "      <td>Single</td>\n",
       "      <td>Owner</td>\n",
       "      <td>3.0</td>\n",
       "      <td>21.0</td>\n",
       "      <td>9.0</td>\n",
       "      <td>Yes</td>\n",
       "    </tr>\n",
       "    <tr>\n",
       "      <th>1</th>\n",
       "      <td>ID_0002</td>\n",
       "      <td>26/11/2004</td>\n",
       "      <td>Male</td>\n",
       "      <td>75106.0</td>\n",
       "      <td>390.0</td>\n",
       "      <td>9782.0</td>\n",
       "      <td>Unemployed</td>\n",
       "      <td>NaN</td>\n",
       "      <td>Owner</td>\n",
       "      <td>2.0</td>\n",
       "      <td>9.0</td>\n",
       "      <td>10.0</td>\n",
       "      <td>No</td>\n",
       "    </tr>\n",
       "    <tr>\n",
       "      <th>2</th>\n",
       "      <td>ID_0003</td>\n",
       "      <td>02/07/1992</td>\n",
       "      <td>Male</td>\n",
       "      <td>50678.0</td>\n",
       "      <td>779.0</td>\n",
       "      <td>38650.0</td>\n",
       "      <td>Student</td>\n",
       "      <td>Divorced</td>\n",
       "      <td>Owner</td>\n",
       "      <td>3.0</td>\n",
       "      <td>16.0</td>\n",
       "      <td>5.0</td>\n",
       "      <td>Yes</td>\n",
       "    </tr>\n",
       "    <tr>\n",
       "      <th>3</th>\n",
       "      <td>ID_0004</td>\n",
       "      <td>03/07/1974</td>\n",
       "      <td>Male</td>\n",
       "      <td>96218.0</td>\n",
       "      <td>757.0</td>\n",
       "      <td>22366.0</td>\n",
       "      <td>Student</td>\n",
       "      <td>Single</td>\n",
       "      <td>Owner</td>\n",
       "      <td>1.0</td>\n",
       "      <td>21.0</td>\n",
       "      <td>0.0</td>\n",
       "      <td>No</td>\n",
       "    </tr>\n",
       "    <tr>\n",
       "      <th>4</th>\n",
       "      <td>ID_0005</td>\n",
       "      <td>13/05/1976</td>\n",
       "      <td>Male</td>\n",
       "      <td>83230.0</td>\n",
       "      <td>750.0</td>\n",
       "      <td>28557.0</td>\n",
       "      <td>Employed</td>\n",
       "      <td>Single</td>\n",
       "      <td>Owner</td>\n",
       "      <td>1.0</td>\n",
       "      <td>11.0</td>\n",
       "      <td>5.0</td>\n",
       "      <td>No</td>\n",
       "    </tr>\n",
       "  </tbody>\n",
       "</table>\n",
       "</div>"
      ],
      "text/plain": [
       "  Identifier DateOfBirth  Gender   Income  CreditScore  LoanAmount  \\\n",
       "0    ID_0001  06/01/1964  Female  96534.0          NaN     44116.0   \n",
       "1    ID_0002  26/11/2004    Male  75106.0        390.0      9782.0   \n",
       "2    ID_0003  02/07/1992    Male  50678.0        779.0     38650.0   \n",
       "3    ID_0004  03/07/1974    Male  96218.0        757.0     22366.0   \n",
       "4    ID_0005  13/05/1976    Male  83230.0        750.0     28557.0   \n",
       "\n",
       "  EmploymentStatus MaritalStatus OccupancyStatus  NumDependents  \\\n",
       "0       Unemployed        Single           Owner            3.0   \n",
       "1       Unemployed           NaN           Owner            2.0   \n",
       "2          Student      Divorced           Owner            3.0   \n",
       "3          Student        Single           Owner            1.0   \n",
       "4         Employed        Single           Owner            1.0   \n",
       "\n",
       "   SocialMediaUsageHours  ShoppingFrequencyPerMonth HealthInsuranceStatus  \n",
       "0                   21.0                        9.0                   Yes  \n",
       "1                    9.0                       10.0                    No  \n",
       "2                   16.0                        5.0                   Yes  \n",
       "3                   21.0                        0.0                    No  \n",
       "4                   11.0                        5.0                    No  "
      ]
     },
     "execution_count": 5,
     "metadata": {},
     "output_type": "execute_result"
    }
   ],
   "source": [
    "acc_holder.head()"
   ]
  },
  {
   "cell_type": "code",
   "execution_count": 6,
   "id": "1f4fcd90",
   "metadata": {},
   "outputs": [
    {
     "data": {
      "text/plain": [
       "(1045, 550)"
      ]
     },
     "execution_count": 6,
     "metadata": {},
     "output_type": "execute_result"
    }
   ],
   "source": [
    "len(acc_holder), len(acc_holder.dropna())"
   ]
  },
  {
   "cell_type": "code",
   "execution_count": 7,
   "id": "a533ee0d",
   "metadata": {},
   "outputs": [
    {
     "data": {
      "text/html": [
       "<div>\n",
       "<style scoped>\n",
       "    .dataframe tbody tr th:only-of-type {\n",
       "        vertical-align: middle;\n",
       "    }\n",
       "\n",
       "    .dataframe tbody tr th {\n",
       "        vertical-align: top;\n",
       "    }\n",
       "\n",
       "    .dataframe thead th {\n",
       "        text-align: right;\n",
       "    }\n",
       "</style>\n",
       "<table border=\"1\" class=\"dataframe\">\n",
       "  <thead>\n",
       "    <tr style=\"text-align: right;\">\n",
       "      <th></th>\n",
       "      <th>Identifier</th>\n",
       "      <th>MuleAccount</th>\n",
       "    </tr>\n",
       "  </thead>\n",
       "  <tbody>\n",
       "    <tr>\n",
       "      <th>0</th>\n",
       "      <td>ID_0001</td>\n",
       "      <td>0.0</td>\n",
       "    </tr>\n",
       "    <tr>\n",
       "      <th>1</th>\n",
       "      <td>ID_0002</td>\n",
       "      <td>0.0</td>\n",
       "    </tr>\n",
       "    <tr>\n",
       "      <th>2</th>\n",
       "      <td>ID_0003</td>\n",
       "      <td>NaN</td>\n",
       "    </tr>\n",
       "    <tr>\n",
       "      <th>3</th>\n",
       "      <td>ID_0004</td>\n",
       "      <td>NaN</td>\n",
       "    </tr>\n",
       "    <tr>\n",
       "      <th>4</th>\n",
       "      <td>ID_0005</td>\n",
       "      <td>0.0</td>\n",
       "    </tr>\n",
       "  </tbody>\n",
       "</table>\n",
       "</div>"
      ],
      "text/plain": [
       "  Identifier  MuleAccount\n",
       "0    ID_0001          0.0\n",
       "1    ID_0002          0.0\n",
       "2    ID_0003          NaN\n",
       "3    ID_0004          NaN\n",
       "4    ID_0005          0.0"
      ]
     },
     "execution_count": 7,
     "metadata": {},
     "output_type": "execute_result"
    }
   ],
   "source": [
    "mule_flag.head()"
   ]
  },
  {
   "cell_type": "code",
   "execution_count": 8,
   "id": "b15d456f",
   "metadata": {},
   "outputs": [
    {
     "data": {
      "text/plain": [
       "(1000, 948)"
      ]
     },
     "execution_count": 8,
     "metadata": {},
     "output_type": "execute_result"
    }
   ],
   "source": [
    "len(mule_flag), len(mule_flag.dropna())"
   ]
  },
  {
   "cell_type": "markdown",
   "id": "d7cf59ef",
   "metadata": {},
   "source": [
    "## Data Audit"
   ]
  },
  {
   "cell_type": "markdown",
   "id": "deb9eb3d",
   "metadata": {},
   "source": [
    "Reusable Functions"
   ]
  },
  {
   "cell_type": "code",
   "execution_count": 9,
   "id": "1db25d77",
   "metadata": {},
   "outputs": [],
   "source": [
    "def correlation_plot(df):\n",
    "    df_select = df.iloc[:, 1:].corr()\n",
    "    plt.figure(figsize=(10,8))\n",
    "    sns.heatmap(df_select,\n",
    "                cmap = 'coolwarm',\n",
    "                annot = True,\n",
    "                vmin = -0.1,\n",
    "                vmax = 0.1,\n",
    "                center = 0,\n",
    "                linewidths = 0.5)"
   ]
  },
  {
   "cell_type": "markdown",
   "id": "1d271914",
   "metadata": {},
   "source": [
    "### Account Data"
   ]
  },
  {
   "cell_type": "code",
   "execution_count": 10,
   "id": "9ab2688d",
   "metadata": {},
   "outputs": [
    {
     "name": "stdout",
     "output_type": "stream",
     "text": [
      "<class 'pandas.core.frame.DataFrame'>\n",
      "RangeIndex: 1000 entries, 0 to 999\n",
      "Data columns (total 10 columns):\n",
      " #   Column              Non-Null Count  Dtype  \n",
      "---  ------              --------------  -----  \n",
      " 0   Identifier          1000 non-null   object \n",
      " 1   AccountLength       948 non-null    float64\n",
      " 2   AverageBalance      948 non-null    float64\n",
      " 3   NumTransactions     948 non-null    float64\n",
      " 4   NumDeposits         948 non-null    float64\n",
      " 5   NumWithdrawals      948 non-null    float64\n",
      " 6   NumTransfers        948 non-null    float64\n",
      " 7   NumLoans            948 non-null    float64\n",
      " 8   NumCreditCards      949 non-null    float64\n",
      " 9   NumSavingsAccounts  948 non-null    float64\n",
      "dtypes: float64(9), object(1)\n",
      "memory usage: 78.3+ KB\n"
     ]
    }
   ],
   "source": [
    "acc_data.info()"
   ]
  },
  {
   "cell_type": "code",
   "execution_count": 11,
   "id": "0a946936",
   "metadata": {},
   "outputs": [],
   "source": [
    "duplicate_count = acc_data['Identifier'].duplicated().sum()"
   ]
  },
  {
   "cell_type": "code",
   "execution_count": 12,
   "id": "de5f0778",
   "metadata": {},
   "outputs": [
    {
     "data": {
      "text/plain": [
       "0"
      ]
     },
     "execution_count": 12,
     "metadata": {},
     "output_type": "execute_result"
    }
   ],
   "source": [
    "duplicate_count"
   ]
  },
  {
   "cell_type": "code",
   "execution_count": 13,
   "id": "320abae6",
   "metadata": {},
   "outputs": [
    {
     "data": {
      "text/plain": [
       "Identifier             0\n",
       "AccountLength         52\n",
       "AverageBalance        52\n",
       "NumTransactions       52\n",
       "NumDeposits           52\n",
       "NumWithdrawals        52\n",
       "NumTransfers          52\n",
       "NumLoans              52\n",
       "NumCreditCards        51\n",
       "NumSavingsAccounts    52\n",
       "dtype: int64"
      ]
     },
     "execution_count": 13,
     "metadata": {},
     "output_type": "execute_result"
    }
   ],
   "source": [
    "acc_data.isnull().sum()"
   ]
  },
  {
   "cell_type": "markdown",
   "id": "0d5d14e7",
   "metadata": {},
   "source": [
    "Checking Data Correlation"
   ]
  },
  {
   "cell_type": "code",
   "execution_count": 14,
   "id": "1019262a",
   "metadata": {},
   "outputs": [
    {
     "data": {
      "image/png": "[encoded data removed]",
      "text/plain": [
       "<Figure size 1000x800 with 2 Axes>"
      ]
     },
     "metadata": {},
     "output_type": "display_data"
    }
   ],
   "source": [
    "correlation_plot(acc_data)"
   ]
  },
  {
   "cell_type": "markdown",
   "id": "a8600f63",
   "metadata": {},
   "source": [
    "Notice there are only very weak correlation between features - we cannot predict one feature from another.\n",
    "\n",
    "Try using imputation method for missing data."
   ]
  },
  {
   "cell_type": "markdown",
   "id": "73c6b18d",
   "metadata": {},
   "source": [
    "Visualising Distibution of Data"
   ]
  },
  {
   "cell_type": "code",
   "execution_count": 15,
   "id": "05304599",
   "metadata": {},
   "outputs": [
    {
     "data": {
      "text/html": [
       "<div>\n",
       "<style scoped>\n",
       "    .dataframe tbody tr th:only-of-type {\n",
       "        vertical-align: middle;\n",
       "    }\n",
       "\n",
       "    .dataframe tbody tr th {\n",
       "        vertical-align: top;\n",
       "    }\n",
       "\n",
       "    .dataframe thead th {\n",
       "        text-align: right;\n",
       "    }\n",
       "</style>\n",
       "<table border=\"1\" class=\"dataframe\">\n",
       "  <thead>\n",
       "    <tr style=\"text-align: right;\">\n",
       "      <th></th>\n",
       "      <th>AccountLength</th>\n",
       "      <th>AverageBalance</th>\n",
       "      <th>NumTransactions</th>\n",
       "      <th>NumDeposits</th>\n",
       "      <th>NumWithdrawals</th>\n",
       "      <th>NumTransfers</th>\n",
       "      <th>NumLoans</th>\n",
       "      <th>NumCreditCards</th>\n",
       "      <th>NumSavingsAccounts</th>\n",
       "    </tr>\n",
       "  </thead>\n",
       "  <tbody>\n",
       "    <tr>\n",
       "      <th>count</th>\n",
       "      <td>948.000000</td>\n",
       "      <td>948.000000</td>\n",
       "      <td>948.000000</td>\n",
       "      <td>948.000000</td>\n",
       "      <td>948.000000</td>\n",
       "      <td>948.000000</td>\n",
       "      <td>948.000000</td>\n",
       "      <td>949.000000</td>\n",
       "      <td>948.000000</td>\n",
       "    </tr>\n",
       "    <tr>\n",
       "      <th>mean</th>\n",
       "      <td>15.103376</td>\n",
       "      <td>25481.985232</td>\n",
       "      <td>252.247890</td>\n",
       "      <td>153.948312</td>\n",
       "      <td>152.660338</td>\n",
       "      <td>98.294304</td>\n",
       "      <td>4.670886</td>\n",
       "      <td>2.076923</td>\n",
       "      <td>0.988397</td>\n",
       "    </tr>\n",
       "    <tr>\n",
       "      <th>std</th>\n",
       "      <td>8.332952</td>\n",
       "      <td>13936.320951</td>\n",
       "      <td>141.995191</td>\n",
       "      <td>85.569836</td>\n",
       "      <td>83.936786</td>\n",
       "      <td>58.319106</td>\n",
       "      <td>2.872018</td>\n",
       "      <td>1.431040</td>\n",
       "      <td>0.805782</td>\n",
       "    </tr>\n",
       "    <tr>\n",
       "      <th>min</th>\n",
       "      <td>1.000000</td>\n",
       "      <td>1082.000000</td>\n",
       "      <td>10.000000</td>\n",
       "      <td>5.000000</td>\n",
       "      <td>5.000000</td>\n",
       "      <td>0.000000</td>\n",
       "      <td>0.000000</td>\n",
       "      <td>0.000000</td>\n",
       "      <td>0.000000</td>\n",
       "    </tr>\n",
       "    <tr>\n",
       "      <th>25%</th>\n",
       "      <td>8.000000</td>\n",
       "      <td>13586.750000</td>\n",
       "      <td>129.000000</td>\n",
       "      <td>81.750000</td>\n",
       "      <td>81.000000</td>\n",
       "      <td>49.000000</td>\n",
       "      <td>2.000000</td>\n",
       "      <td>1.000000</td>\n",
       "      <td>0.000000</td>\n",
       "    </tr>\n",
       "    <tr>\n",
       "      <th>50%</th>\n",
       "      <td>15.000000</td>\n",
       "      <td>25654.000000</td>\n",
       "      <td>252.000000</td>\n",
       "      <td>154.000000</td>\n",
       "      <td>151.500000</td>\n",
       "      <td>93.000000</td>\n",
       "      <td>5.000000</td>\n",
       "      <td>2.000000</td>\n",
       "      <td>1.000000</td>\n",
       "    </tr>\n",
       "    <tr>\n",
       "      <th>75%</th>\n",
       "      <td>22.000000</td>\n",
       "      <td>37293.000000</td>\n",
       "      <td>375.250000</td>\n",
       "      <td>230.000000</td>\n",
       "      <td>220.250000</td>\n",
       "      <td>150.000000</td>\n",
       "      <td>7.000000</td>\n",
       "      <td>3.000000</td>\n",
       "      <td>2.000000</td>\n",
       "    </tr>\n",
       "    <tr>\n",
       "      <th>max</th>\n",
       "      <td>29.000000</td>\n",
       "      <td>49908.000000</td>\n",
       "      <td>498.000000</td>\n",
       "      <td>299.000000</td>\n",
       "      <td>299.000000</td>\n",
       "      <td>199.000000</td>\n",
       "      <td>9.000000</td>\n",
       "      <td>4.000000</td>\n",
       "      <td>2.000000</td>\n",
       "    </tr>\n",
       "  </tbody>\n",
       "</table>\n",
       "</div>"
      ],
      "text/plain": [
       "       AccountLength  AverageBalance  NumTransactions  NumDeposits  \\\n",
       "count     948.000000      948.000000       948.000000   948.000000   \n",
       "mean       15.103376    25481.985232       252.247890   153.948312   \n",
       "std         8.332952    13936.320951       141.995191    85.569836   \n",
       "min         1.000000     1082.000000        10.000000     5.000000   \n",
       "25%         8.000000    13586.750000       129.000000    81.750000   \n",
       "50%        15.000000    25654.000000       252.000000   154.000000   \n",
       "75%        22.000000    37293.000000       375.250000   230.000000   \n",
       "max        29.000000    49908.000000       498.000000   299.000000   \n",
       "\n",
       "       NumWithdrawals  NumTransfers    NumLoans  NumCreditCards  \\\n",
       "count      948.000000    948.000000  948.000000      949.000000   \n",
       "mean       152.660338     98.294304    4.670886        2.076923   \n",
       "std         83.936786     58.319106    2.872018        1.431040   \n",
       "min          5.000000      0.000000    0.000000        0.000000   \n",
       "25%         81.000000     49.000000    2.000000        1.000000   \n",
       "50%        151.500000     93.000000    5.000000        2.000000   \n",
       "75%        220.250000    150.000000    7.000000        3.000000   \n",
       "max        299.000000    199.000000    9.000000        4.000000   \n",
       "\n",
       "       NumSavingsAccounts  \n",
       "count          948.000000  \n",
       "mean             0.988397  \n",
       "std              0.805782  \n",
       "min              0.000000  \n",
       "25%              0.000000  \n",
       "50%              1.000000  \n",
       "75%              2.000000  \n",
       "max              2.000000  "
      ]
     },
     "execution_count": 15,
     "metadata": {},
     "output_type": "execute_result"
    }
   ],
   "source": [
    "summ_acc_data = acc_data.describe()\n",
    "summ_acc_data"
   ]
  },
  {
   "cell_type": "markdown",
   "id": "8d7a1fe2",
   "metadata": {},
   "source": [
    "Data Imputation\n",
    "\n",
    "By Rule of Thumb - k = sqrt(n)/2 where in this case k ~= 15"
   ]
  },
  {
   "cell_type": "code",
   "execution_count": 16,
   "id": "934d37bc",
   "metadata": {},
   "outputs": [],
   "source": [
    "imputer = KNNImputer(n_neighbors=15)\n",
    "acc_data_imputed = imputer.fit_transform(acc_data.iloc[:, 1:])"
   ]
  },
  {
   "cell_type": "code",
   "execution_count": 17,
   "id": "471482d0",
   "metadata": {},
   "outputs": [],
   "source": [
    "acc_data_imputed = pd.DataFrame(acc_data_imputed, columns = acc_data.iloc[:, 1:].columns)"
   ]
  },
  {
   "cell_type": "code",
   "execution_count": 18,
   "id": "0cd87736",
   "metadata": {},
   "outputs": [
    {
     "data": {
      "text/html": [
       "<div>\n",
       "<style scoped>\n",
       "    .dataframe tbody tr th:only-of-type {\n",
       "        vertical-align: middle;\n",
       "    }\n",
       "\n",
       "    .dataframe tbody tr th {\n",
       "        vertical-align: top;\n",
       "    }\n",
       "\n",
       "    .dataframe thead th {\n",
       "        text-align: right;\n",
       "    }\n",
       "</style>\n",
       "<table border=\"1\" class=\"dataframe\">\n",
       "  <thead>\n",
       "    <tr style=\"text-align: right;\">\n",
       "      <th></th>\n",
       "      <th>AccountLength</th>\n",
       "      <th>AverageBalance</th>\n",
       "      <th>NumTransactions</th>\n",
       "      <th>NumDeposits</th>\n",
       "      <th>NumWithdrawals</th>\n",
       "      <th>NumTransfers</th>\n",
       "      <th>NumLoans</th>\n",
       "      <th>NumCreditCards</th>\n",
       "      <th>NumSavingsAccounts</th>\n",
       "    </tr>\n",
       "  </thead>\n",
       "  <tbody>\n",
       "    <tr>\n",
       "      <th>0</th>\n",
       "      <td>19.000000</td>\n",
       "      <td>24184.8</td>\n",
       "      <td>305.0</td>\n",
       "      <td>230.0</td>\n",
       "      <td>288.0</td>\n",
       "      <td>39.0</td>\n",
       "      <td>7.000000</td>\n",
       "      <td>2.0</td>\n",
       "      <td>0.0</td>\n",
       "    </tr>\n",
       "    <tr>\n",
       "      <th>1</th>\n",
       "      <td>3.000000</td>\n",
       "      <td>24989.0</td>\n",
       "      <td>331.0</td>\n",
       "      <td>203.0</td>\n",
       "      <td>147.0</td>\n",
       "      <td>5.0</td>\n",
       "      <td>5.333333</td>\n",
       "      <td>4.0</td>\n",
       "      <td>2.0</td>\n",
       "    </tr>\n",
       "    <tr>\n",
       "      <th>2</th>\n",
       "      <td>17.933333</td>\n",
       "      <td>10915.0</td>\n",
       "      <td>109.0</td>\n",
       "      <td>43.0</td>\n",
       "      <td>227.0</td>\n",
       "      <td>37.0</td>\n",
       "      <td>4.000000</td>\n",
       "      <td>1.0</td>\n",
       "      <td>1.0</td>\n",
       "    </tr>\n",
       "    <tr>\n",
       "      <th>3</th>\n",
       "      <td>19.000000</td>\n",
       "      <td>43552.0</td>\n",
       "      <td>87.0</td>\n",
       "      <td>149.0</td>\n",
       "      <td>236.0</td>\n",
       "      <td>168.0</td>\n",
       "      <td>1.000000</td>\n",
       "      <td>2.0</td>\n",
       "      <td>1.0</td>\n",
       "    </tr>\n",
       "    <tr>\n",
       "      <th>4</th>\n",
       "      <td>9.000000</td>\n",
       "      <td>19990.0</td>\n",
       "      <td>236.8</td>\n",
       "      <td>49.0</td>\n",
       "      <td>37.0</td>\n",
       "      <td>99.0</td>\n",
       "      <td>9.000000</td>\n",
       "      <td>3.0</td>\n",
       "      <td>2.0</td>\n",
       "    </tr>\n",
       "  </tbody>\n",
       "</table>\n",
       "</div>"
      ],
      "text/plain": [
       "   AccountLength  AverageBalance  NumTransactions  NumDeposits  \\\n",
       "0      19.000000         24184.8            305.0        230.0   \n",
       "1       3.000000         24989.0            331.0        203.0   \n",
       "2      17.933333         10915.0            109.0         43.0   \n",
       "3      19.000000         43552.0             87.0        149.0   \n",
       "4       9.000000         19990.0            236.8         49.0   \n",
       "\n",
       "   NumWithdrawals  NumTransfers  NumLoans  NumCreditCards  NumSavingsAccounts  \n",
       "0           288.0          39.0  7.000000             2.0                 0.0  \n",
       "1           147.0           5.0  5.333333             4.0                 2.0  \n",
       "2           227.0          37.0  4.000000             1.0                 1.0  \n",
       "3           236.0         168.0  1.000000             2.0                 1.0  \n",
       "4            37.0          99.0  9.000000             3.0                 2.0  "
      ]
     },
     "execution_count": 18,
     "metadata": {},
     "output_type": "execute_result"
    }
   ],
   "source": [
    "acc_data_imputed.head()"
   ]
  },
  {
   "cell_type": "code",
   "execution_count": 30,
   "id": "44a51001",
   "metadata": {},
   "outputs": [],
   "source": [
    "acc_data_final = pd.concat([acc_data['Identifier'], acc_data_imputed], axis=1)"
   ]
  },
  {
   "cell_type": "code",
   "execution_count": 31,
   "id": "6cda7018",
   "metadata": {},
   "outputs": [
    {
     "data": {
      "text/html": [
       "<div>\n",
       "<style scoped>\n",
       "    .dataframe tbody tr th:only-of-type {\n",
       "        vertical-align: middle;\n",
       "    }\n",
       "\n",
       "    .dataframe tbody tr th {\n",
       "        vertical-align: top;\n",
       "    }\n",
       "\n",
       "    .dataframe thead th {\n",
       "        text-align: right;\n",
       "    }\n",
       "</style>\n",
       "<table border=\"1\" class=\"dataframe\">\n",
       "  <thead>\n",
       "    <tr style=\"text-align: right;\">\n",
       "      <th></th>\n",
       "      <th>Identifier</th>\n",
       "      <th>AccountLength</th>\n",
       "      <th>AverageBalance</th>\n",
       "      <th>NumTransactions</th>\n",
       "      <th>NumDeposits</th>\n",
       "      <th>NumWithdrawals</th>\n",
       "      <th>NumTransfers</th>\n",
       "      <th>NumLoans</th>\n",
       "      <th>NumCreditCards</th>\n",
       "      <th>NumSavingsAccounts</th>\n",
       "    </tr>\n",
       "  </thead>\n",
       "  <tbody>\n",
       "    <tr>\n",
       "      <th>0</th>\n",
       "      <td>ID_0001</td>\n",
       "      <td>19.000000</td>\n",
       "      <td>24184.8</td>\n",
       "      <td>305.0</td>\n",
       "      <td>230.0</td>\n",
       "      <td>288.0</td>\n",
       "      <td>39.0</td>\n",
       "      <td>7.000000</td>\n",
       "      <td>2.0</td>\n",
       "      <td>0.0</td>\n",
       "    </tr>\n",
       "    <tr>\n",
       "      <th>1</th>\n",
       "      <td>ID_0002</td>\n",
       "      <td>3.000000</td>\n",
       "      <td>24989.0</td>\n",
       "      <td>331.0</td>\n",
       "      <td>203.0</td>\n",
       "      <td>147.0</td>\n",
       "      <td>5.0</td>\n",
       "      <td>5.333333</td>\n",
       "      <td>4.0</td>\n",
       "      <td>2.0</td>\n",
       "    </tr>\n",
       "    <tr>\n",
       "      <th>2</th>\n",
       "      <td>ID_0003</td>\n",
       "      <td>17.933333</td>\n",
       "      <td>10915.0</td>\n",
       "      <td>109.0</td>\n",
       "      <td>43.0</td>\n",
       "      <td>227.0</td>\n",
       "      <td>37.0</td>\n",
       "      <td>4.000000</td>\n",
       "      <td>1.0</td>\n",
       "      <td>1.0</td>\n",
       "    </tr>\n",
       "    <tr>\n",
       "      <th>3</th>\n",
       "      <td>ID_0004</td>\n",
       "      <td>19.000000</td>\n",
       "      <td>43552.0</td>\n",
       "      <td>87.0</td>\n",
       "      <td>149.0</td>\n",
       "      <td>236.0</td>\n",
       "      <td>168.0</td>\n",
       "      <td>1.000000</td>\n",
       "      <td>2.0</td>\n",
       "      <td>1.0</td>\n",
       "    </tr>\n",
       "    <tr>\n",
       "      <th>4</th>\n",
       "      <td>ID_0005</td>\n",
       "      <td>9.000000</td>\n",
       "      <td>19990.0</td>\n",
       "      <td>236.8</td>\n",
       "      <td>49.0</td>\n",
       "      <td>37.0</td>\n",
       "      <td>99.0</td>\n",
       "      <td>9.000000</td>\n",
       "      <td>3.0</td>\n",
       "      <td>2.0</td>\n",
       "    </tr>\n",
       "  </tbody>\n",
       "</table>\n",
       "</div>"
      ],
      "text/plain": [
       "  Identifier  AccountLength  AverageBalance  NumTransactions  NumDeposits  \\\n",
       "0    ID_0001      19.000000         24184.8            305.0        230.0   \n",
       "1    ID_0002       3.000000         24989.0            331.0        203.0   \n",
       "2    ID_0003      17.933333         10915.0            109.0         43.0   \n",
       "3    ID_0004      19.000000         43552.0             87.0        149.0   \n",
       "4    ID_0005       9.000000         19990.0            236.8         49.0   \n",
       "\n",
       "   NumWithdrawals  NumTransfers  NumLoans  NumCreditCards  NumSavingsAccounts  \n",
       "0           288.0          39.0  7.000000             2.0                 0.0  \n",
       "1           147.0           5.0  5.333333             4.0                 2.0  \n",
       "2           227.0          37.0  4.000000             1.0                 1.0  \n",
       "3           236.0         168.0  1.000000             2.0                 1.0  \n",
       "4            37.0          99.0  9.000000             3.0                 2.0  "
      ]
     },
     "execution_count": 31,
     "metadata": {},
     "output_type": "execute_result"
    }
   ],
   "source": [
    "acc_data_final.head()"
   ]
  },
  {
   "cell_type": "markdown",
   "id": "1367e507",
   "metadata": {},
   "source": [
    "Bins Creation\n",
    "- Create bins to seperate the numerical data into multiple categories for easier visualisations"
   ]
  },
  {
   "cell_type": "code",
   "execution_count": 32,
   "id": "cbaaeccd",
   "metadata": {},
   "outputs": [
    {
     "data": {
      "text/html": [
       "<div>\n",
       "<style scoped>\n",
       "    .dataframe tbody tr th:only-of-type {\n",
       "        vertical-align: middle;\n",
       "    }\n",
       "\n",
       "    .dataframe tbody tr th {\n",
       "        vertical-align: top;\n",
       "    }\n",
       "\n",
       "    .dataframe thead th {\n",
       "        text-align: right;\n",
       "    }\n",
       "</style>\n",
       "<table border=\"1\" class=\"dataframe\">\n",
       "  <thead>\n",
       "    <tr style=\"text-align: right;\">\n",
       "      <th></th>\n",
       "      <th>AccountLength</th>\n",
       "      <th>AverageBalance</th>\n",
       "      <th>NumTransactions</th>\n",
       "      <th>NumDeposits</th>\n",
       "      <th>NumWithdrawals</th>\n",
       "      <th>NumTransfers</th>\n",
       "      <th>NumLoans</th>\n",
       "      <th>NumCreditCards</th>\n",
       "      <th>NumSavingsAccounts</th>\n",
       "    </tr>\n",
       "    <tr>\n",
       "      <th>Identifier</th>\n",
       "      <th></th>\n",
       "      <th></th>\n",
       "      <th></th>\n",
       "      <th></th>\n",
       "      <th></th>\n",
       "      <th></th>\n",
       "      <th></th>\n",
       "      <th></th>\n",
       "      <th></th>\n",
       "    </tr>\n",
       "  </thead>\n",
       "  <tbody>\n",
       "    <tr>\n",
       "      <th>ID_0001</th>\n",
       "      <td>19.000000</td>\n",
       "      <td>24184.8</td>\n",
       "      <td>305.0</td>\n",
       "      <td>230.0</td>\n",
       "      <td>288.0</td>\n",
       "      <td>39.0</td>\n",
       "      <td>7.000000</td>\n",
       "      <td>2.0</td>\n",
       "      <td>0.0</td>\n",
       "    </tr>\n",
       "    <tr>\n",
       "      <th>ID_0002</th>\n",
       "      <td>3.000000</td>\n",
       "      <td>24989.0</td>\n",
       "      <td>331.0</td>\n",
       "      <td>203.0</td>\n",
       "      <td>147.0</td>\n",
       "      <td>5.0</td>\n",
       "      <td>5.333333</td>\n",
       "      <td>4.0</td>\n",
       "      <td>2.0</td>\n",
       "    </tr>\n",
       "    <tr>\n",
       "      <th>ID_0003</th>\n",
       "      <td>17.933333</td>\n",
       "      <td>10915.0</td>\n",
       "      <td>109.0</td>\n",
       "      <td>43.0</td>\n",
       "      <td>227.0</td>\n",
       "      <td>37.0</td>\n",
       "      <td>4.000000</td>\n",
       "      <td>1.0</td>\n",
       "      <td>1.0</td>\n",
       "    </tr>\n",
       "    <tr>\n",
       "      <th>ID_0004</th>\n",
       "      <td>19.000000</td>\n",
       "      <td>43552.0</td>\n",
       "      <td>87.0</td>\n",
       "      <td>149.0</td>\n",
       "      <td>236.0</td>\n",
       "      <td>168.0</td>\n",
       "      <td>1.000000</td>\n",
       "      <td>2.0</td>\n",
       "      <td>1.0</td>\n",
       "    </tr>\n",
       "    <tr>\n",
       "      <th>ID_0005</th>\n",
       "      <td>9.000000</td>\n",
       "      <td>19990.0</td>\n",
       "      <td>236.8</td>\n",
       "      <td>49.0</td>\n",
       "      <td>37.0</td>\n",
       "      <td>99.0</td>\n",
       "      <td>9.000000</td>\n",
       "      <td>3.0</td>\n",
       "      <td>2.0</td>\n",
       "    </tr>\n",
       "  </tbody>\n",
       "</table>\n",
       "</div>"
      ],
      "text/plain": [
       "            AccountLength  AverageBalance  NumTransactions  NumDeposits  \\\n",
       "Identifier                                                                \n",
       "ID_0001         19.000000         24184.8            305.0        230.0   \n",
       "ID_0002          3.000000         24989.0            331.0        203.0   \n",
       "ID_0003         17.933333         10915.0            109.0         43.0   \n",
       "ID_0004         19.000000         43552.0             87.0        149.0   \n",
       "ID_0005          9.000000         19990.0            236.8         49.0   \n",
       "\n",
       "            NumWithdrawals  NumTransfers  NumLoans  NumCreditCards  \\\n",
       "Identifier                                                           \n",
       "ID_0001              288.0          39.0  7.000000             2.0   \n",
       "ID_0002              147.0           5.0  5.333333             4.0   \n",
       "ID_0003              227.0          37.0  4.000000             1.0   \n",
       "ID_0004              236.0         168.0  1.000000             2.0   \n",
       "ID_0005               37.0          99.0  9.000000             3.0   \n",
       "\n",
       "            NumSavingsAccounts  \n",
       "Identifier                      \n",
       "ID_0001                    0.0  \n",
       "ID_0002                    2.0  \n",
       "ID_0003                    1.0  \n",
       "ID_0004                    1.0  \n",
       "ID_0005                    2.0  "
      ]
     },
     "execution_count": 32,
     "metadata": {},
     "output_type": "execute_result"
    }
   ],
   "source": [
    "acc_data_final = acc_data_final.set_index(\"Identifier\")\n",
    "acc_data_final.head()"
   ]
  },
  {
   "cell_type": "markdown",
   "id": "e45d4bf0",
   "metadata": {},
   "source": [
    "Create function to separate bins"
   ]
  },
  {
   "cell_type": "code",
   "execution_count": 27,
   "id": "c7f552f9",
   "metadata": {},
   "outputs": [],
   "source": [
    "def data_in_range(x, step):\n",
    "    lower = (x // step) * step\n",
    "    upper = lower + step - 1\n",
    "    return f'{int(lower)}-{int(upper)}'\n",
    "\n",
    "def data_separator(df, col, step):\n",
    "    df[col] = df[col].apply(lambda x: data_in_range(x, step = step))"
   ]
  },
  {
   "cell_type": "code",
   "execution_count": 33,
   "id": "c510ee01",
   "metadata": {},
   "outputs": [],
   "source": [
    "data_separator(acc_data_final, \"AccountLength\", 5)\n",
    "data_separator(acc_data_final, \"AverageBalance\", 10000)\n",
    "data_separator(acc_data_final, \"NumTransactions\", 100)\n",
    "data_separator(acc_data_final, \"NumDeposits\", 50)\n",
    "data_separator(acc_data_final, \"NumWithdrawals\", 50)\n",
    "data_separator(acc_data_final, \"NumTransfers\", 50)"
   ]
  },
  {
   "cell_type": "code",
   "execution_count": 35,
   "id": "01cfbf4d",
   "metadata": {},
   "outputs": [
    {
     "data": {
      "text/html": [
       "<div>\n",
       "<style scoped>\n",
       "    .dataframe tbody tr th:only-of-type {\n",
       "        vertical-align: middle;\n",
       "    }\n",
       "\n",
       "    .dataframe tbody tr th {\n",
       "        vertical-align: top;\n",
       "    }\n",
       "\n",
       "    .dataframe thead th {\n",
       "        text-align: right;\n",
       "    }\n",
       "</style>\n",
       "<table border=\"1\" class=\"dataframe\">\n",
       "  <thead>\n",
       "    <tr style=\"text-align: right;\">\n",
       "      <th></th>\n",
       "      <th>AccountLength</th>\n",
       "      <th>AverageBalance</th>\n",
       "      <th>NumTransactions</th>\n",
       "      <th>NumDeposits</th>\n",
       "      <th>NumWithdrawals</th>\n",
       "      <th>NumTransfers</th>\n",
       "      <th>NumLoans</th>\n",
       "      <th>NumCreditCards</th>\n",
       "      <th>NumSavingsAccounts</th>\n",
       "    </tr>\n",
       "    <tr>\n",
       "      <th>Identifier</th>\n",
       "      <th></th>\n",
       "      <th></th>\n",
       "      <th></th>\n",
       "      <th></th>\n",
       "      <th></th>\n",
       "      <th></th>\n",
       "      <th></th>\n",
       "      <th></th>\n",
       "      <th></th>\n",
       "    </tr>\n",
       "  </thead>\n",
       "  <tbody>\n",
       "    <tr>\n",
       "      <th>ID_0001</th>\n",
       "      <td>15-19</td>\n",
       "      <td>20000-29999</td>\n",
       "      <td>300-399</td>\n",
       "      <td>200-249</td>\n",
       "      <td>250-299</td>\n",
       "      <td>0-49</td>\n",
       "      <td>7.000000</td>\n",
       "      <td>2.0</td>\n",
       "      <td>0.0</td>\n",
       "    </tr>\n",
       "    <tr>\n",
       "      <th>ID_0002</th>\n",
       "      <td>0-4</td>\n",
       "      <td>20000-29999</td>\n",
       "      <td>300-399</td>\n",
       "      <td>200-249</td>\n",
       "      <td>100-149</td>\n",
       "      <td>0-49</td>\n",
       "      <td>5.333333</td>\n",
       "      <td>4.0</td>\n",
       "      <td>2.0</td>\n",
       "    </tr>\n",
       "    <tr>\n",
       "      <th>ID_0003</th>\n",
       "      <td>15-19</td>\n",
       "      <td>10000-19999</td>\n",
       "      <td>100-199</td>\n",
       "      <td>0-49</td>\n",
       "      <td>200-249</td>\n",
       "      <td>0-49</td>\n",
       "      <td>4.000000</td>\n",
       "      <td>1.0</td>\n",
       "      <td>1.0</td>\n",
       "    </tr>\n",
       "    <tr>\n",
       "      <th>ID_0004</th>\n",
       "      <td>15-19</td>\n",
       "      <td>40000-49999</td>\n",
       "      <td>0-99</td>\n",
       "      <td>100-149</td>\n",
       "      <td>200-249</td>\n",
       "      <td>150-199</td>\n",
       "      <td>1.000000</td>\n",
       "      <td>2.0</td>\n",
       "      <td>1.0</td>\n",
       "    </tr>\n",
       "    <tr>\n",
       "      <th>ID_0005</th>\n",
       "      <td>5-9</td>\n",
       "      <td>10000-19999</td>\n",
       "      <td>200-299</td>\n",
       "      <td>0-49</td>\n",
       "      <td>0-49</td>\n",
       "      <td>50-99</td>\n",
       "      <td>9.000000</td>\n",
       "      <td>3.0</td>\n",
       "      <td>2.0</td>\n",
       "    </tr>\n",
       "  </tbody>\n",
       "</table>\n",
       "</div>"
      ],
      "text/plain": [
       "           AccountLength AverageBalance NumTransactions NumDeposits  \\\n",
       "Identifier                                                            \n",
       "ID_0001            15-19    20000-29999         300-399     200-249   \n",
       "ID_0002              0-4    20000-29999         300-399     200-249   \n",
       "ID_0003            15-19    10000-19999         100-199        0-49   \n",
       "ID_0004            15-19    40000-49999            0-99     100-149   \n",
       "ID_0005              5-9    10000-19999         200-299        0-49   \n",
       "\n",
       "           NumWithdrawals NumTransfers  NumLoans  NumCreditCards  \\\n",
       "Identifier                                                         \n",
       "ID_0001           250-299         0-49  7.000000             2.0   \n",
       "ID_0002           100-149         0-49  5.333333             4.0   \n",
       "ID_0003           200-249         0-49  4.000000             1.0   \n",
       "ID_0004           200-249      150-199  1.000000             2.0   \n",
       "ID_0005              0-49        50-99  9.000000             3.0   \n",
       "\n",
       "            NumSavingsAccounts  \n",
       "Identifier                      \n",
       "ID_0001                    0.0  \n",
       "ID_0002                    2.0  \n",
       "ID_0003                    1.0  \n",
       "ID_0004                    1.0  \n",
       "ID_0005                    2.0  "
      ]
     },
     "execution_count": 35,
     "metadata": {},
     "output_type": "execute_result"
    }
   ],
   "source": [
    "acc_data_final.head()"
   ]
  },
  {
   "cell_type": "markdown",
   "id": "a0452977",
   "metadata": {},
   "source": [
    "### Account Holder"
   ]
  },
  {
   "cell_type": "code",
   "execution_count": 21,
   "id": "d918d904",
   "metadata": {},
   "outputs": [
    {
     "name": "stdout",
     "output_type": "stream",
     "text": [
      "<class 'pandas.core.frame.DataFrame'>\n",
      "RangeIndex: 1045 entries, 0 to 1044\n",
      "Data columns (total 13 columns):\n",
      " #   Column                     Non-Null Count  Dtype  \n",
      "---  ------                     --------------  -----  \n",
      " 0   Identifier                 1045 non-null   object \n",
      " 1   DateOfBirth                991 non-null    object \n",
      " 2   Gender                     992 non-null    object \n",
      " 3   Income                     989 non-null    float64\n",
      " 4   CreditScore                987 non-null    float64\n",
      " 5   LoanAmount                 990 non-null    float64\n",
      " 6   EmploymentStatus           987 non-null    object \n",
      " 7   MaritalStatus              989 non-null    object \n",
      " 8   OccupancyStatus            990 non-null    object \n",
      " 9   NumDependents              990 non-null    float64\n",
      " 10  SocialMediaUsageHours      985 non-null    float64\n",
      " 11  ShoppingFrequencyPerMonth  990 non-null    float64\n",
      " 12  HealthInsuranceStatus      989 non-null    object \n",
      "dtypes: float64(6), object(7)\n",
      "memory usage: 106.3+ KB\n"
     ]
    }
   ],
   "source": [
    "acc_holder.info()"
   ]
  },
  {
   "cell_type": "code",
   "execution_count": 22,
   "id": "3b9156cc",
   "metadata": {},
   "outputs": [],
   "source": [
    "duplicate_count = acc_holder['Identifier'].duplicated().sum()"
   ]
  },
  {
   "cell_type": "code",
   "execution_count": 23,
   "id": "f70b910e",
   "metadata": {},
   "outputs": [
    {
     "data": {
      "text/plain": [
       "45"
      ]
     },
     "execution_count": 23,
     "metadata": {},
     "output_type": "execute_result"
    }
   ],
   "source": [
    "duplicate_count"
   ]
  },
  {
   "cell_type": "code",
   "execution_count": null,
   "id": "46891553",
   "metadata": {},
   "outputs": [],
   "source": []
  },
  {
   "cell_type": "markdown",
   "id": "6fac2c8e",
   "metadata": {},
   "source": [
    "Mule Flag"
   ]
  },
  {
   "cell_type": "code",
   "execution_count": 12,
   "id": "da9d1cf5",
   "metadata": {},
   "outputs": [
    {
     "name": "stdout",
     "output_type": "stream",
     "text": [
      "<class 'pandas.core.frame.DataFrame'>\n",
      "RangeIndex: 1000 entries, 0 to 999\n",
      "Data columns (total 2 columns):\n",
      " #   Column       Non-Null Count  Dtype  \n",
      "---  ------       --------------  -----  \n",
      " 0   Identifier   1000 non-null   object \n",
      " 1   MuleAccount  948 non-null    float64\n",
      "dtypes: float64(1), object(1)\n",
      "memory usage: 15.8+ KB\n"
     ]
    }
   ],
   "source": [
    "mule_flag.info()"
   ]
  },
  {
   "cell_type": "code",
   "execution_count": null,
   "id": "54a3347b",
   "metadata": {},
   "outputs": [
    {
     "data": {
      "text/plain": [
       "array([ 0., nan,  1.])"
      ]
     },
     "execution_count": 13,
     "metadata": {},
     "output_type": "execute_result"
    }
   ],
   "source": [
    "mule_flag['MuleAccount'].unique()"
   ]
  },
  {
   "cell_type": "code",
   "execution_count": 19,
   "id": "ce75b734",
   "metadata": {},
   "outputs": [],
   "source": [
    "mule_dropna = mule_flag.dropna()"
   ]
  },
  {
   "cell_type": "code",
   "execution_count": null,
   "id": "aa443e64",
   "metadata": {},
   "outputs": [],
   "source": []
  }
 ],
 "metadata": {
  "kernelspec": {
   "display_name": "Python 3",
   "language": "python",
   "name": "python3"
  },
  "language_info": {
   "codemirror_mode": {
    "name": "ipython",
    "version": 3
   },
   "file_extension": ".py",
   "mimetype": "text/x-python",
   "name": "python",
   "nbconvert_exporter": "python",
   "pygments_lexer": "ipython3",
   "version": "3.12.3"
  }
 },
 "nbformat": 4,
 "nbformat_minor": 5
}
